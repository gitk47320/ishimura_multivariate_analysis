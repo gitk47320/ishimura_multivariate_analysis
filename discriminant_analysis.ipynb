{
 "cells": [
  {
   "cell_type": "code",
   "execution_count": 1,
   "id": "9df9b7d5-29f8-4e63-a788-f6721d96c025",
   "metadata": {},
   "outputs": [
    {
     "name": "stderr",
     "output_type": "stream",
     "text": [
      "Duplicate key in file PosixPath('/home/junya/anaconda3/lib/python3.9/site-packages/matplotlib/mpl-data/matplotlibrc'), line 257 ('font.family:   IPAexGothic')\n"
     ]
    }
   ],
   "source": [
    "# オクスブリッジ運河殺人事件\n",
    "# 演習1：線型判別関数を求める\n",
    "import numpy as np\n",
    "import matplotlib.pyplot as plt\n",
    "from mpl_toolkits import mplot3d"
   ]
  },
  {
   "cell_type": "code",
   "execution_count": 16,
   "id": "cecad0dd-88df-413e-9b9c-cf975d164c5d",
   "metadata": {},
   "outputs": [
    {
     "name": "stdout",
     "output_type": "stream",
     "text": [
      "52.1 32.3 28.1 38.699999999999996\n"
     ]
    }
   ],
   "source": [
    "# o_x1:オクス川の溶存酸素量、o_x2:オクス川の酸素要求量\n",
    "# c_x1:ケンブ川の溶存酸素量、c_x2:ケンブ川の酸素要求量\n",
    "o_x1 = np.array([6.5, 7.5, 8.6, 7.9, 8.2, 7.5, 5.9])\n",
    "o_x2 = np.array([3.5, 4.5, 4.7, 3.9, 5.6, 5.2, 4.9])\n",
    "c_x1 = np.array([3.9, 4.9, 5.1, 2.9, 2.5, 5.2, 3.6])\n",
    "c_x2 = np.array([6.2, 4.5, 6.1, 5.8, 4.6, 6.7, 4.8])\n",
    "N_o = 7\n",
    "N_c = 7\n",
    "p = 2\n",
    "print(np.sum(o_x1), np.sum(o_x2), np.sum(c_x1), np.sum(c_x2))"
   ]
  },
  {
   "cell_type": "code",
   "execution_count": 18,
   "id": "2d470e6f-f24b-41ea-9fec-7643017c2f9f",
   "metadata": {},
   "outputs": [
    {
     "name": "stdout",
     "output_type": "stream",
     "text": [
      "[[5.39714286 1.15571429]\n",
      " [1.15571429 3.16857143]]\n",
      "[[7.08857143 2.42714286]\n",
      " [2.42714286 4.67428571]]\n",
      "[[12.48571429  3.58285714]\n",
      " [ 3.58285714  7.84285714]]\n"
     ]
    }
   ],
   "source": [
    "# 平方和積和行列の算出\n",
    "# オクス川のグループ内平方和積和行列\n",
    "o_w11 = np.sum(o_x1 * o_x1) - np.sum(o_x1) * np.sum(o_x1) / N_o\n",
    "o_w12 = np.sum(o_x1 * o_x2) - np.sum(o_x1) * np.sum(o_x2) / N_o\n",
    "o_w22 = np.sum(o_x2 * o_x2) - np.sum(o_x2) * np.sum(o_x2) / N_o\n",
    "o_w = np.array([[o_w11, o_w12], [o_w12, o_w22]])\n",
    "print(o_w)\n",
    "\n",
    "# ケンブ川のグループ内平方和積和行列\n",
    "c_w11 = np.sum(c_x1 * c_x1) - np.sum(c_x1) * np.sum(c_x1) / N_c\n",
    "c_w12 = np.sum(c_x1 * c_x2) - np.sum(c_x1) * np.sum(c_x2) / N_c\n",
    "c_w22 = np.sum(c_x2 * c_x2) - np.sum(c_x2) * np.sum(c_x2) / N_c\n",
    "c_w = np.array([[c_w11, c_w12], [c_w12, c_w22]])\n",
    "print(c_w)\n",
    "\n",
    "# プールされたグループ内平方和積和行列\n",
    "w = o_w + c_w\n",
    "print(w)"
   ]
  },
  {
   "cell_type": "code",
   "execution_count": 20,
   "id": "f0219498-2d59-4bf9-9ea1-1763628a0e6f",
   "metadata": {},
   "outputs": [
    {
     "name": "stdout",
     "output_type": "stream",
     "text": [
      "[[1.04047619 0.29857143]\n",
      " [0.29857143 0.65357143]]\n"
     ]
    }
   ],
   "source": [
    "# プールされたグループ内分散共分散行列\n",
    "s = w / ( N_o + N_c - 2)\n",
    "print(s)"
   ]
  },
  {
   "cell_type": "code",
   "execution_count": 28,
   "id": "6d276c19-d02c-4fa8-bde6-b16096994517",
   "metadata": {},
   "outputs": [
    {
     "name": "stdout",
     "output_type": "stream",
     "text": [
      "4.254321205119327 -3.3424112172020224 -7.420383159230457\n",
      "z = 4.254321205119327 × x1 + -3.3424112172020224 × x2 -7.420383159230457\n"
     ]
    }
   ],
   "source": [
    "# 線型判別関数の導出\n",
    "a1 = (s[1][1] * ((np.sum(o_x1) / N_o ) - (np.sum(c_x1) / N_c )) - s[0][1] * ((np.sum(o_x2) / N_o ) - (np.sum(c_x2) / N_c ))) / (s[0][0] * s[1][1] - s[0][1] ** 2)\n",
    "a2 = ( - s[0][1] * ((np.sum(o_x1) / N_o ) - (np.sum(c_x1) / N_c )) + s[0][0] * ((np.sum(o_x2) / N_o ) - (np.sum(c_x2) / N_c ))) / (s[0][0] * s[1][1] - s[0][1] ** 2)\n",
    "a0 = - (a1 * (np.sum(o_x1) + np.sum(c_x1)) / (N_o + N_c) + a2 * (np.sum(o_x2) + np.sum(c_x2)) / (N_o + N_c))\n",
    "print(a1, a2, a0)\n",
    "print(\"z = \" + str(a1) + \" × x1 + \" + str(a2) + \" × x2\" + \" \" + str(a0))"
   ]
  },
  {
   "cell_type": "code",
   "execution_count": 33,
   "id": "419e3a5f-16d0-4de8-854b-421f90470844",
   "metadata": {},
   "outputs": [
    {
     "name": "stdout",
     "output_type": "stream",
     "text": [
      "0.4379321428571397 0.7567496031746177\n"
     ]
    }
   ],
   "source": [
    "# 演習2:マハラノビス距離の算出\n",
    "# 分散共分散行列とその行列式の算出\n",
    "# オクス川の分散共分散行列と行列式\n",
    "o_s = o_w / (N_o - 1)\n",
    "c_s = c_w / (N_c - 1)\n",
    "det_o_s = np.linalg.det(o_s)\n",
    "det_c_s = np.linalg.det(c_s)\n",
    "print(det_o_s , det_c_s)"
   ]
  },
  {
   "cell_type": "code",
   "execution_count": 53,
   "id": "c29d39f7-2189-4efe-90fa-c3b41c3e4139",
   "metadata": {},
   "outputs": [
    {
     "name": "stdout",
     "output_type": "stream",
     "text": [
      "1.205883712142854 2.0540255475543803 -0.8796753139076485 -13.891367166581194 -12.408423788203494 80.3237369812752\n",
      "1.0294655137967323 1.5611882272186144 -1.069108745684975 -2.354493345338262 -12.970573290424703 40.58017495310293\n"
     ]
    }
   ],
   "source": [
    "# オクス川のマハラノビス距離の算出\n",
    "# 以下左から、x1^2、x2^2, x1x2, x1, x2それぞれの係数及び定数項\n",
    "o_a = o_s[1][1] / det_o_s\n",
    "o_b = o_s[0][0] / det_o_s\n",
    "o_c = - 2 * o_s[0][1] / det_o_s\n",
    "o_d = 2 * (o_s[0][1] * np.mean(o_x2) - o_s[1][1] * np.mean(o_x1)) / det_o_s\n",
    "o_e = 2 * (o_s[0][1] * np.mean(o_x1) - o_s[0][0] * np.mean(o_x2)) / det_o_s\n",
    "o_f = (o_s[1][1] * np.mean(o_x1) ** 2 + o_s[0][0] * np.mean(o_x2) ** 2 - 2 * o_s[0][1] * np.mean(o_x1) * np.mean(o_x2)) / det_o_s\n",
    "print(o_a, o_b, o_c, o_d, o_e, o_f)\n",
    "\n",
    "#print(o_s[1][1] / det_o_s)\n",
    "#print(o_s[0][0] / det_o_s)\n",
    "#print(- 2 * o_s[0][1] / det_o_s)\n",
    "#print(2 * (o_s[0][1] * np.mean(o_x2) - o_s[1][1] * np.mean(o_x1)) / det_o_s)\n",
    "#print(2 * (o_s[0][1] * np.mean(o_x1) - o_s[0][0] * np.mean(o_x2)) / det_o_s)\n",
    "#print((o_s[1][1] * np.mean(o_x1) ** 2 + o_s[0][0] * np.mean(o_x2) ** 2 - 2 * o_s[0][1] * np.mean(o_x1) * np.mean(o_x2)) / det_o_s)\n",
    "\n",
    "# ケンブ川のマハラノビス距離の算出\n",
    "# 以下左から、x1^2、x2^2, x1x2, x1, x2それぞれの係数及び定数項\n",
    "c_a = c_s[1][1] / det_c_s\n",
    "c_b = c_s[0][0] / det_c_s\n",
    "c_c = - 2 * c_s[0][1] / det_c_s\n",
    "c_d = 2 * (c_s[0][1] * np.mean(c_x2) - c_s[1][1] * np.mean(c_x1)) / det_c_s\n",
    "c_e = 2 * (c_s[0][1] * np.mean(c_x1) - c_s[0][0] * np.mean(c_x2)) / det_c_s\n",
    "c_f = (c_s[1][1] * np.mean(c_x1) ** 2 + c_s[0][0] * np.mean(c_x2) ** 2 - 2 * c_s[0][1] * np.mean(c_x1) * np.mean(c_x2)) / det_c_s\n",
    "print(c_a, c_b, c_c, c_d, c_e, c_f)\n",
    "\n",
    "#print(c_s[1][1] / det_c_s)\n",
    "#print(c_s[0][0] / det_c_s)\n",
    "#print(- 2 * c_s[0][1] / det_c_s)\n",
    "#print(2 * (c_s[0][1] * np.mean(c_x2) - c_s[1][1] * np.mean(c_x1)) / det_c_s)\n",
    "#print(2 * (c_s[0][1] * np.mean(c_x1) - c_s[0][0] * np.mean(c_x2)) / det_c_s)\n",
    "#print((c_s[1][1] * np.mean(c_x1) ** 2 + c_s[0][0] * np.mean(c_x2) ** 2 - 2 * c_s[0][1] * np.mean(c_x1) * np.mean(c_x2)) / det_c_s)"
   ]
  },
  {
   "cell_type": "code",
   "execution_count": 59,
   "id": "6aefe0e4-b919-474c-bbf0-acbf4fbbd563",
   "metadata": {},
   "outputs": [
    {
     "name": "stdout",
     "output_type": "stream",
     "text": [
      "[ 8.53426541  9.4461754  13.45744648 13.15335061  8.74754791  7.10648755\n",
      "  1.30229699]\n",
      "[-11.55148001  -1.61505973  -6.11205344 -14.46883672 -12.15967175\n",
      "  -7.69206805  -8.14840066]\n"
     ]
    }
   ],
   "source": [
    "# 判別得点と正答率の算出\n",
    "o_z = a1 * o_x1 + a2 * o_x2 + a0\n",
    "c_z = a1 * c_x1 + a2 * c_x2 + a0\n",
    "print(o_z)\n",
    "print(c_z)\n",
    "# オクス川のデータはすべて正、ケンブ川のデータはすべて負。よって、オクス川、ケンブ川ともに正答率は100%である"
   ]
  },
  {
   "cell_type": "code",
   "execution_count": null,
   "id": "f7ef945b-59e9-4fd9-9487-6eb022d7329a",
   "metadata": {},
   "outputs": [],
   "source": [
    "# 演習4はこれまでの過程で各種行列は算出済のため省略"
   ]
  },
  {
   "cell_type": "code",
   "execution_count": 66,
   "id": "87e69f96-7fe9-443c-96df-3b06d6927f48",
   "metadata": {},
   "outputs": [
    {
     "data": {
      "image/png": "[encoded data removed]",
      "text/plain": [
       "<Figure size 432x288 with 1 Axes>"
      ]
     },
     "metadata": {
      "needs_background": "light"
     },
     "output_type": "display_data"
    }
   ],
   "source": [
    "# 描画\n",
    "fig = plt.figure()\n",
    "ax = mplot3d.Axes3D(fig, auto_add_to_figure=False)\n",
    "fig.add_axes(ax)\n",
    "\n",
    "ax.scatter3D(o_x1, o_x2, o_z)\n",
    "ax.scatter3D(c_x1, c_x2, c_z)\n",
    "linex = np.arange(0, 10)\n",
    "liney = np.arange(0, 10)\n",
    "z = a1 * linex + a2 * liney + a0\n",
    "ax.set_xlabel(\"溶存酸素量\")\n",
    "ax.set_ylabel(\"酸素要求量\")\n",
    "ax.set_zlabel(\"判別得点\")\n",
    "ax.plot(linex, liney, z,\"--\")\n",
    "plt.show()"
   ]
  },
  {
   "cell_type": "code",
   "execution_count": null,
   "id": "92961e0b-de8c-431b-9c2c-35dce7380797",
   "metadata": {},
   "outputs": [],
   "source": []
  }
 ],
 "metadata": {
  "kernelspec": {
   "display_name": "data_analysis",
   "language": "python",
   "name": "data_analysis"
  },
  "language_info": {
   "codemirror_mode": {
    "name": "ipython",
    "version": 3
   },
   "file_extension": ".py",
   "mimetype": "text/x-python",
   "name": "python",
   "nbconvert_exporter": "python",
   "pygments_lexer": "ipython3",
   "version": "3.9.12"
  }
 },
 "nbformat": 4,
 "nbformat_minor": 5
}
