{
 "cells": [
  {
   "cell_type": "code",
   "execution_count": 1,
   "id": "4cf22a68-7ea2-4697-975d-18fb1b46b040",
   "metadata": {},
   "outputs": [
    {
     "name": "stderr",
     "output_type": "stream",
     "text": [
      "Duplicate key in file PosixPath('/home/junya/anaconda3/lib/python3.9/site-packages/matplotlib/mpl-data/matplotlibrc'), line 257 ('font.family:   IPAexGothic')\n"
     ]
    }
   ],
   "source": [
    "# フロス警部のストレス\n",
    "# 演習1：分散共分散行列と相関行列を求める\n",
    "import numpy as np\n",
    "import matplotlib.pyplot as plt\n",
    "from mpl_toolkits import mplot3d"
   ]
  },
  {
   "cell_type": "code",
   "execution_count": 2,
   "id": "2d369cb6-7506-4598-8aff-a30e289ceb5c",
   "metadata": {},
   "outputs": [],
   "source": [
    "# x1:犯罪件数、x2:娯楽施設\n",
    "x1 = np.array([12, 36, 24, 25, 17, 23, 35, 18, 26, 32])\n",
    "x2 = np.array([16, 27, 17, 28, 24, 21, 31, 15, 19, 24])\n",
    "N  = 10"
   ]
  },
  {
   "cell_type": "code",
   "execution_count": 3,
   "id": "c18415c9-3719-4e0c-8b01-ebdc01d1f3c3",
   "metadata": {},
   "outputs": [
    {
     "name": "stdout",
     "output_type": "stream",
     "text": [
      "[ 144 1296  576  625  289  529 1225  324  676 1024] [256 729 289 784 576 441 961 225 361 576] [ 192  972  408  700  408  483 1085  270  494  768]\n"
     ]
    }
   ],
   "source": [
    "# 統計量の計算\n",
    "x1x1 = x1 * x1\n",
    "x2x2 = x2 * x2\n",
    "x1x2 = x1 * x2\n",
    "print(x1x1, x2x2, x1x2)"
   ]
  },
  {
   "cell_type": "code",
   "execution_count": 4,
   "id": "73cee488-c6a9-45b1-8a59-1ab6fdc67554",
   "metadata": {},
   "outputs": [
    {
     "name": "stdout",
     "output_type": "stream",
     "text": [
      "557.6000000000004 269.60000000000036 274.39999999999964\n"
     ]
    }
   ],
   "source": [
    "# 平方和と積和\n",
    "sx1x1 = np.sum(x1x1) - np.sum(x1) * np.sum(x1) / N\n",
    "sx2x2 = np.sum(x2x2) - np.sum(x2) * np.sum(x2) / N\n",
    "sx1x2 = np.sum(x1x2) - np.sum(x1) * np.sum(x2) / N\n",
    "print(sx1x1 ,sx2x2, sx1x2)"
   ]
  },
  {
   "cell_type": "code",
   "execution_count": 5,
   "id": "17b9b69e-0431-4f56-a295-5e7c4576df63",
   "metadata": {},
   "outputs": [
    {
     "name": "stdout",
     "output_type": "stream",
     "text": [
      "[[61.95555556 30.48888889]\n",
      " [30.48888889 29.95555556]]\n"
     ]
    }
   ],
   "source": [
    "# 分散共分散行列\n",
    "var_cov_mat = np.array([[sx1x1 / (N - 1), sx1x2 / (N - 1)], [sx1x2 / (N - 1), sx2x2 / (N - 1)]])\n",
    "print(var_cov_mat)"
   ]
  },
  {
   "cell_type": "code",
   "execution_count": 6,
   "id": "8163b24b-b583-457b-9a7e-c92a6dcacf50",
   "metadata": {},
   "outputs": [
    {
     "name": "stdout",
     "output_type": "stream",
     "text": [
      "[[1.         0.70772214]\n",
      " [0.70772214 1.        ]]\n"
     ]
    }
   ],
   "source": [
    "# 相関行列\n",
    "cor_mat = np.array([[1 , var_cov_mat[0][1] / (np.sqrt(var_cov_mat[0][0] * var_cov_mat[1][1]))], [var_cov_mat[0][1] / (np.sqrt(var_cov_mat[0][0] * var_cov_mat[1][1])), 1]])\n",
    "print(cor_mat)"
   ]
  },
  {
   "cell_type": "code",
   "execution_count": 7,
   "id": "bd589271-fa0c-41de-a9ac-0bcf3f1865ed",
   "metadata": {},
   "outputs": [
    {
     "name": "stdout",
     "output_type": "stream",
     "text": [
      "80.38769672741724 11.523414383693948 0.8557692766348619 0.517357656914291\n",
      "z1 = 0.8557692766348619 × x1 + 0.517357656914291 × x2\n",
      "z2 = -0.517357656914291 × x1 + 0.8557692766348619 × x2\n"
     ]
    }
   ],
   "source": [
    "# 演習2:分散共分散行列の固有値・固有ベクトルの算出\n",
    "# wが固有値、vが固有ベクトル\n",
    "w, v = np.linalg.eig(var_cov_mat)\n",
    "λ1 = w[0]\n",
    "λ2 = w[1]\n",
    "# λ1の固有ベクトルをa11, a12とする。vの1列目がそれに該当する\n",
    "a11 = v[0][0]\n",
    "a12 = v[1][0]\n",
    "print(λ1, λ2, a11, a12)\n",
    "# 第１主成分z1\n",
    "print(\"z1 = \" + str(a11) + \" × x1 + \" + str(a12) + \" × x2\")\n",
    "# 第２主成分z2\n",
    "a21 = v[0][1]\n",
    "a22 = v[1][1]\n",
    "print(\"z2 = \" + str(a21) + \" × x1 + \" + str(a22) + \" × x2\")"
   ]
  },
  {
   "cell_type": "code",
   "execution_count": 19,
   "id": "5c1977e4-5bca-414c-8c3d-56d5298645af",
   "metadata": {},
   "outputs": [
    {
     "data": {
      "image/png": "[encoded data removed]",
      "text/plain": [
       "<Figure size 432x288 with 1 Axes>"
      ]
     },
     "metadata": {
      "needs_background": "light"
     },
     "output_type": "display_data"
    }
   ],
   "source": [
    "# 主成分の描画\n",
    "fig = plt.figure()\n",
    "\n",
    "linex1 = np.arange(0, 40)\n",
    "linex2 = np.arange(0, 40)\n",
    "\n",
    "z1 = a11 * linex1 + a12 * linex2\n",
    "z2 = a21 * linex1 + a22 * linex2\n",
    "\n",
    "plt.plot(z1)\n",
    "plt.plot(z2)\n",
    "plt.show()"
   ]
  },
  {
   "cell_type": "code",
   "execution_count": 9,
   "id": "b79abf4e-b627-434c-acb2-6c4fdd07340d",
   "metadata": {},
   "outputs": [
    {
     "name": "stdout",
     "output_type": "stream",
     "text": [
      "-32.708418044041835\n"
     ]
    }
   ],
   "source": [
    "# 演習3:主成分得点の算出\n",
    "# 定数項の算出\n",
    "a0 = - (a11 * (np.sum(x1) / N) + a12 * (np.sum(x2) / N))\n",
    "print(a0)"
   ]
  },
  {
   "cell_type": "code",
   "execution_count": 10,
   "id": "d652fbfd-2b30-4ed5-968d-08d42757f85b",
   "metadata": {},
   "outputs": [
    {
     "name": "stdout",
     "output_type": "stream",
     "text": [
      "[-14.16146421  12.06793265  -3.37487524   3.17182827  -5.74375658\n",
      "  -2.16121389  13.281594    -9.54420621  -0.62862137   7.09278257]\n"
     ]
    }
   ],
   "source": [
    "# 第1主成分の主成分得点を求める\n",
    "z = a11 * x1 + a12 * x2 + a0\n",
    "print(z)"
   ]
  },
  {
   "cell_type": "code",
   "execution_count": 11,
   "id": "59b120ba-12a3-4750-9acf-460ce495584e",
   "metadata": {},
   "outputs": [
    {
     "name": "stdout",
     "output_type": "stream",
     "text": [
      "0.8746243599453029 0.12537564005469712\n"
     ]
    }
   ],
   "source": [
    "# 演習4:寄与率と因子負荷の算出\n",
    "# 寄与率の算出\n",
    "con_rate_1 = λ1 / (λ1 + λ2)\n",
    "con_rate_2 = λ2 / (λ1 + λ2)\n",
    "print(con_rate_1, con_rate_2)"
   ]
  },
  {
   "cell_type": "code",
   "execution_count": 12,
   "id": "ee8f07a2-7aa4-4555-9ab0-e1ebd2c966e4",
   "metadata": {},
   "outputs": [
    {
     "name": "stdout",
     "output_type": "stream",
     "text": [
      "0.9747906514311516 0.8475142020526862\n"
     ]
    }
   ],
   "source": [
    "# 因子負荷の算出\n",
    "fact_load_1 = np.sqrt(λ1) * a11 / np.sqrt(var_cov_mat[0][0])\n",
    "fact_load_2 = np.sqrt(λ1) * a12 / np.sqrt(var_cov_mat[1][1])\n",
    "print(fact_load_1, fact_load_2)"
   ]
  },
  {
   "cell_type": "code",
   "execution_count": 13,
   "id": "21535580-d47b-4b85-8758-9f9716c5865c",
   "metadata": {},
   "outputs": [],
   "source": []
  }
 ],
 "metadata": {
  "kernelspec": {
   "display_name": "data_analysis",
   "language": "python",
   "name": "data_analysis"
  },
  "language_info": {
   "codemirror_mode": {
    "name": "ipython",
    "version": 3
   },
   "file_extension": ".py",
   "mimetype": "text/x-python",
   "name": "python",
   "nbconvert_exporter": "python",
   "pygments_lexer": "ipython3",
   "version": "3.9.12"
  }
 },
 "nbformat": 4,
 "nbformat_minor": 5
}
